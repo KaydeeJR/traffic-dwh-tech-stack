{
 "cells": [
  {
   "cell_type": "code",
   "execution_count": 5,
   "metadata": {},
   "outputs": [],
   "source": [
    "from pathlib import Path\n",
    "import os\n",
    "# TODO: change file path as necessary\n",
    "data_file = \"/data/20181024_d5_0830_0900.csv\"\n",
    "dir_path = str(Path(os.path.dirname(os.getcwd())))"
   ]
  },
  {
   "cell_type": "code",
   "execution_count": 2,
   "metadata": {},
   "outputs": [
    {
     "name": "stdout",
     "output_type": "stream",
     "text": [
      "  track_id; type; traveled_d; avg_speed; lat; lon; speed; lon_acc; lat_acc; time\n",
      "0  1; Motorcycle; 347.33; 30.349228; 37.983176; 2...                            \n",
      "1  2; Motorcycle; 404.89; 28.247962; 37.983147; 2...                            \n",
      "2  3; Motorcycle; 405.06; 10.400858; 37.983145; 2...                            \n",
      "3  4; Taxi; 28.31; 36.401640; 37.982778; 23.72921...                            \n",
      "4  5; Car; 419.70; 27.979874; 37.983111; 23.73055...                            \n"
     ]
    }
   ],
   "source": [
    "import pandas as pd\n",
    "if (os.path.exists(dir_path+data_file)):\n",
    "    df = pd.read_csv(dir_path+data_file)\n",
    "    print(df.head())"
   ]
  },
  {
   "cell_type": "markdown",
   "metadata": {},
   "source": [
    "CSV data file only has 1 column."
   ]
  },
  {
   "cell_type": "markdown",
   "metadata": {},
   "source": [
    "## Restructuring the dataframe"
   ]
  },
  {
   "cell_type": "code",
   "execution_count": 7,
   "metadata": {},
   "outputs": [],
   "source": [
    "if (os.path.exists(dir_path+\"/scripts\")):\n",
    "    # change current working directory to scripts folder\n",
    "    os.chdir(dir_path+\"/scripts\")\n",
    "    import structure_data"
   ]
  },
  {
   "cell_type": "code",
   "execution_count": 17,
   "metadata": {},
   "outputs": [],
   "source": [
    "# empty dataframes to store values\n",
    "trajectory_df = pd.DataFrame(columns=['track_id', 'vehicle_type', 'travelled_dist', 'avg_speed', 'drone_number', 'date', 'time_range'])\n",
    "time_freq_df =  pd.DataFrame(columns=['latitude', 'longitude', 'speed', 'long_acc', 'lat_acc', 'time', 'track_id'])\n",
    "# access dataframe values\n",
    "for data_index in range(len(df.values)):\n",
    "    # list of data elements\n",
    "    elements = str(df.values[data_index]).split(';')\n",
    "    traj_info = structure_data.get_trajectory_info(elements)\n",
    "    file_info = structure_data.get_file_name(filePath=dir_path+data_file)\n",
    "    time_freq_info = structure_data.get_vehicle_data(elements) # generator object\n",
    "    # add lists to dataframe as rows\n",
    "    trajectory_df.loc[data_index]=traj_info+file_info\n",
    "    for time_data in time_freq_info:\n",
    "        time_freq_df.loc[data_index]=list(time_data)"
   ]
  },
  {
   "cell_type": "code",
   "execution_count": 18,
   "metadata": {},
   "outputs": [],
   "source": [
    "# TODO: change filename as necessary\n",
    "time_freq_df.to_csv(dir_path+\"/dbt_traffic/seeds/d52018102408300900TimeFreq.csv\")"
   ]
  },
  {
   "cell_type": "code",
   "execution_count": 19,
   "metadata": {},
   "outputs": [],
   "source": [
    "# TODO: change filename as necessary\n",
    "trajectory_df.to_csv(dir_path+\"/dbt_traffic/seeds/d52018102408300900Trajectories.csv\")"
   ]
  }
 ],
 "metadata": {
  "kernelspec": {
   "display_name": "Python 3.10.6 64-bit",
   "language": "python",
   "name": "python3"
  },
  "language_info": {
   "codemirror_mode": {
    "name": "ipython",
    "version": 3
   },
   "file_extension": ".py",
   "mimetype": "text/x-python",
   "name": "python",
   "nbconvert_exporter": "python",
   "pygments_lexer": "ipython3",
   "version": "3.10.6"
  },
  "orig_nbformat": 4,
  "vscode": {
   "interpreter": {
    "hash": "916dbcbb3f70747c44a77c7bcd40155683ae19c65e1c03b4aa3499c5328201f1"
   }
  }
 },
 "nbformat": 4,
 "nbformat_minor": 2
}
